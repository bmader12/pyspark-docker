{
 "cells": [
  {
   "cell_type": "code",
   "execution_count": 1,
   "id": "637b9416",
   "metadata": {},
   "outputs": [],
   "source": [
    "# import necessary libraries\n",
    "import pandas as pd \n",
    "import numpy\n",
    "import matplotlib.pyplot as plt \n",
    "from pyspark.sql import SparkSession\n",
    "# create sparksession\n",
    "spark = SparkSession \\\n",
    "    .builder \\\n",
    "    .appName(\"Pysparkexample\") \\\n",
    "    .config(\"spark.some.config.option\", \"some-value\") \\\n",
    "    .getOrCreate()\n"
   ]
  },
  {
   "cell_type": "code",
   "execution_count": 2,
   "id": "a9548235",
   "metadata": {},
   "outputs": [
    {
     "name": "stdout",
     "output_type": "stream",
     "text": [
      "+--------+---------+-----------+-------------+-------------+-------------+-------------+---------+----------+------------------+------------------+------------------+------------------+--------------+---------------+-----------+-------------------+-----------------+\n",
      "|policyID|statecode|     county|eq_site_limit|hu_site_limit|fl_site_limit|fr_site_limit| tiv_2011|  tiv_2012|eq_site_deductible|hu_site_deductible|fl_site_deductible|fr_site_deductible|point_latitude|point_longitude|       line|       construction|point_granularity|\n",
      "+--------+---------+-----------+-------------+-------------+-------------+-------------+---------+----------+------------------+------------------+------------------+------------------+--------------+---------------+-----------+-------------------+-----------------+\n",
      "|  119736|       FL|CLAY COUNTY|     498960.0|     498960.0|     498960.0|     498960.0| 498960.0|  792148.9|               0.0|            9979.2|               0.0|                 0|     30.102261|     -81.711777|Residential|            Masonry|                1|\n",
      "|  448094|       FL|CLAY COUNTY|    1322376.3|    1322376.3|    1322376.3|    1322376.3|1322376.3|1438163.57|               0.0|               0.0|               0.0|                 0|     30.063936|     -81.707664|Residential|            Masonry|                3|\n",
      "|  206893|       FL|CLAY COUNTY|     190724.4|     190724.4|     190724.4|     190724.4| 190724.4| 192476.78|               0.0|               0.0|               0.0|                 0|     30.089579|     -81.700455|Residential|               Wood|                1|\n",
      "|  333743|       FL|CLAY COUNTY|          0.0|     79520.76|          0.0|          0.0| 79520.76|  86854.48|               0.0|               0.0|               0.0|                 0|     30.063236|     -81.707703|Residential|               Wood|                3|\n",
      "|  172534|       FL|CLAY COUNTY|          0.0|     254281.5|          0.0|     254281.5| 254281.5| 246144.49|               0.0|               0.0|               0.0|                 0|     30.060614|     -81.702675|Residential|               Wood|                1|\n",
      "|  785275|       FL|CLAY COUNTY|          0.0|    515035.62|          0.0|          0.0|515035.62| 884419.17|               0.0|               0.0|               0.0|                 0|     30.063236|     -81.707703|Residential|            Masonry|                3|\n",
      "|  995932|       FL|CLAY COUNTY|          0.0|      1.926E7|          0.0|          0.0|  1.926E7|   2.061E7|               0.0|               0.0|               0.0|                 0|     30.102226|     -81.713882| Commercial|Reinforced Concrete|                1|\n",
      "|  223488|       FL|CLAY COUNTY|     328500.0|     328500.0|     328500.0|     328500.0| 328500.0| 348374.25|               0.0|           16425.0|               0.0|                 0|     30.102217|     -81.707146|Residential|               Wood|                1|\n",
      "|  433512|       FL|CLAY COUNTY|     315000.0|     315000.0|     315000.0|     315000.0| 315000.0| 265821.57|               0.0|           15750.0|               0.0|                 0|     30.118774|     -81.704613|Residential|               Wood|                1|\n",
      "|  142071|       FL|CLAY COUNTY|     705600.0|     705600.0|     705600.0|     705600.0| 705600.0|1010842.56|           14112.0|           35280.0|               0.0|                 0|     30.100628|     -81.703751|Residential|            Masonry|                1|\n",
      "+--------+---------+-----------+-------------+-------------+-------------+-------------+---------+----------+------------------+------------------+------------------+------------------+--------------+---------------+-----------+-------------------+-----------------+\n",
      "only showing top 10 rows\n",
      "\n"
     ]
    }
   ],
   "source": [
    "df = spark.read.csv('FL_insurance_sample.csv', header='true', inferSchema = True)\n",
    "df.show(10)"
   ]
  },
  {
   "cell_type": "code",
   "execution_count": null,
   "id": "f23964e2",
   "metadata": {},
   "outputs": [],
   "source": []
  }
 ],
 "metadata": {
  "kernelspec": {
   "display_name": "Python 3",
   "language": "python",
   "name": "python3"
  },
  "language_info": {
   "codemirror_mode": {
    "name": "ipython",
    "version": 3
   },
   "file_extension": ".py",
   "mimetype": "text/x-python",
   "name": "python",
   "nbconvert_exporter": "python",
   "pygments_lexer": "ipython3",
   "version": "3.8.8"
  }
 },
 "nbformat": 4,
 "nbformat_minor": 5
}
